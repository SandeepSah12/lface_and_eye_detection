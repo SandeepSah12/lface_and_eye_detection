{
 "cells": [
  {
   "cell_type": "code",
   "execution_count": 1,
   "id": "f7ab2649",
   "metadata": {},
   "outputs": [],
   "source": [
    "import cv2"
   ]
  },
  {
   "cell_type": "code",
   "execution_count": 2,
   "id": "b6fa4e4e",
   "metadata": {},
   "outputs": [],
   "source": [
    "import numpy as np"
   ]
  },
  {
   "cell_type": "markdown",
   "id": "9862b22a",
   "metadata": {},
   "source": [
    "### haarcascade_frontalface_default data set"
   ]
  },
  {
   "cell_type": "code",
   "execution_count": 3,
   "id": "94fbc95c",
   "metadata": {},
   "outputs": [],
   "source": [
    "face_classifier=cv2.CascadeClassifier(r\"C:\\Users\\sande\\OneDrive\\Documents\\CNN PROJECTS\\haarcascade_frontalface_default.xml\")"
   ]
  },
  {
   "cell_type": "markdown",
   "id": "2e271abc",
   "metadata": {},
   "source": [
    "### haarcascade_eye data set"
   ]
  },
  {
   "cell_type": "code",
   "execution_count": 4,
   "id": "c46be4ae",
   "metadata": {},
   "outputs": [],
   "source": [
    "eye_classifier=cv2.CascadeClassifier(r\"C:\\Users\\sande\\OneDrive\\Documents\\CNN PROJECTS\\haarcascade_eye.xml\")"
   ]
  },
  {
   "cell_type": "markdown",
   "id": "15582e94",
   "metadata": {},
   "source": [
    "### Defining the function that will do detect"
   ]
  },
  {
   "cell_type": "code",
   "execution_count": 5,
   "id": "192068b9",
   "metadata": {},
   "outputs": [],
   "source": [
    "def detect(gray, frame):\n",
    "    faces=face_classifier.detectMultiScale(gray, 1.3, 5)\n",
    "    for (x,y,w,h) in faces:\n",
    "        cv2.rectangle(frame, (x,y), (x+w, y+h), (255, 0, 0), 2)\n",
    "        roi_gray=gray[y:y+w, x:x+h]\n",
    "        roi_color=frame[y:y+w, x:x+h]\n",
    "        \n",
    "        eyes=eye_classifier.detectMultiScale(roi_gray, 1.3, 5)\n",
    "        for (ex, ey, ew, eh) in eyes:\n",
    "            cv2.rectangle(roi_color, (ex, ey), (ex+eh, ey+ew), (0, 255, 0), 2)\n",
    "    return frame"
   ]
  },
  {
   "cell_type": "markdown",
   "id": "2dc6757e",
   "metadata": {},
   "source": [
    "### Doing some faces and eyes recognition the webcan"
   ]
  },
  {
   "cell_type": "code",
   "execution_count": 6,
   "id": "d2dd138f",
   "metadata": {},
   "outputs": [],
   "source": [
    "video_capture=cv2.VideoCapture(0)\n",
    "\n",
    "while True:\n",
    "    _, frame=video_capture.read()\n",
    "    gray=cv2.cvtColor(frame, cv2.COLOR_BGR2GRAY)\n",
    "    canvas=detect(gray, frame)\n",
    "    cv2.imshow(\"video\", canvas)\n",
    "    if cv2.waitKey(1) & 0xFF == ord(\"q\"):\n",
    "        break\n",
    "video_capture.release()\n",
    "cv2.destroyAllWindows()"
   ]
  },
  {
   "cell_type": "code",
   "execution_count": null,
   "id": "b6b23b67",
   "metadata": {},
   "outputs": [],
   "source": []
  }
 ],
 "metadata": {
  "kernelspec": {
   "display_name": "Python 3 (ipykernel)",
   "language": "python",
   "name": "python3"
  },
  "language_info": {
   "codemirror_mode": {
    "name": "ipython",
    "version": 3
   },
   "file_extension": ".py",
   "mimetype": "text/x-python",
   "name": "python",
   "nbconvert_exporter": "python",
   "pygments_lexer": "ipython3",
   "version": "3.10.11"
  }
 },
 "nbformat": 4,
 "nbformat_minor": 5
}
